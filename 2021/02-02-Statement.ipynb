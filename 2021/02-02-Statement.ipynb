{
 "cells": [
  {
   "cell_type": "markdown",
   "metadata": {},
   "source": [
    "# <center> Statement"
   ]
  },
  {
   "cell_type": "markdown",
   "metadata": {},
   "source": [
    "<img src= \"https://drive.google.com/uc?id=1h4OLbFRq1vgZn96mDZHWVAzXIGPeK86W\" align =right width=150>"
   ]
  },
  {
   "cell_type": "markdown",
   "metadata": {},
   "source": [
    "<div align = right> บุษกร แพงพงษ์มา <br> 2010531201009"
   ]
  },
  {
   "cell_type": "markdown",
   "metadata": {},
   "source": [
    "**ลำดับขั้นตอนของไพธอน (The Python Conceptual Hierachy** \n",
    "1. Programs are composed of modules.\n",
    "2. Modules contain statements.\n",
    "3. Statements contain expressions.\n",
    "4. Expressions create and process objects."
   ]
  },
  {
   "cell_type": "markdown",
   "metadata": {},
   "source": [
    "Statement บน  Python มีลักษณะสำคัญ\n",
    "1. ใช้กั้นหน้า (indent) บอก Statement ระดับของกั้นหน้า ตามเครื่องหมายทวิภาค (:)\n",
    "2. หลีกเลี่ยงการใช้วงเล็บ \"()\" วงเล็บให้กับตัวเก็บ (Container)"
   ]
  },
  {
   "cell_type": "markdown",
   "metadata": {},
   "source": [
    "# Python Statement"
   ]
  },
  {
   "attachments": {},
   "cell_type": "markdown",
   "metadata": {},
   "source": [
    "<table>\n",
    "        <tr>\n",
    "            <td> <div align=center><b>Statement</b></div>\n",
    "            <td> <div align=center><b>หน้าที่ (Role)</b></div>\n",
    "            <td> <div align=center><b>ตัวอย่าง (Example)</b></div>\n",
    "        <tr>\n",
    "            <td><div align=left>Assignment การให้ค่า</div>\n",
    "            <td><div align=left>Creating references สร้างการชี้ไปที่ค่า</div> \n",
    "            <td><div align=left>a, b = 'good', 'bad'</div> <br><div align = left> ทางขวามือเรียกว่า Literals </div>\n",
    "        <tr>\n",
    "            <td><div align=left>Calls and other expressions </div>\n",
    "            <td><div align=left>Running functions </div>\n",
    "            <td><div align=left>log.write(\"spam, ham\")</div>\n",
    "        <tr>\n",
    "            <td><div align = left>print calls </div>\n",
    "            <td><div align = left>Printing objects </div>\n",
    "            <td><div align = left>print('The Killer', joke)</div>\n",
    "        <tr>\n",
    "            <td><div align = left>if/elif/else </div>\n",
    "            <td><div align = left>electing actions </div>\n",
    "            <td><div align = left>if \"python\" in text:</div> <br>\n",
    "                <div align = left>print(text)</div>\n",
    "        <tr>\n",
    "            <td><div align = left>for/else </div>\n",
    "            <td><div align = left>Iteration </div>\n",
    "            <td><div align = left>for x in mylist:</div> <br>\n",
    "                <div align = left>print(x)</div>\n",
    "        <tr>\n",
    "            <td><div align = left>while/else </div>\n",
    "            <td><div align = left>General loops </div>\n",
    "            <td><div align = left>while X > Y:</div> <br>\n",
    "                <div align = left>print('hello')</div>\n",
    "        <tr>\n",
    "            <td><div align = left>pass </div>\n",
    "            <td><div align = left>Empty placeholder </div>\n",
    "            <td><div align = left>while True:</div> <br>\n",
    "                <div align = left>pass</div>\n",
    "        <tr>\n",
    "            <td><div align = left>break </div>\n",
    "            <td><div align = left>Loop exit </div>\n",
    "            <td><div align = left>while True:</div> <br>\n",
    "                <div align = left>if exittest(): break</div>\n",
    "        <tr>\n",
    "            <td><div align = left>continue </div>\n",
    "            <td><div align = left>Loop continue </div>\n",
    "            <td><div align = left>while True:</div> <br>\n",
    "                <div align = left>if skiptest(): continue</div>\n",
    "        <tr>\n",
    "            <td><div align = left>def </div>\n",
    "            <td><div align = left>unctions and methods </div>\n",
    "            <td><div align = left>def f(a, b, c=1, *d):</div> <br>\n",
    "                <div align = left>print(a+b+c+d[0])</div>\n",
    "        <tr>\n",
    "            <td><div align = left>return </div>\n",
    "            <td><div align = left>Functions results </div>\n",
    "            <td><div align = left>def f(a, b, c=1, *d):</div> <br>\n",
    "                <div align = left>return a+b+c+d[0]</div>\n",
    "        <tr>\n",
    "            <td><div align = left>yield </div>\n",
    "            <td><div align = left>Generator functions def gen(n):</div>\n",
    "            <td><div align = left>for i in n: yield i*2</div>\n",
    "        <tr>\n",
    "            <td><div align = left>global </div>\n",
    "            <td><div align = left>Namespaces x = 'old'</div>\n",
    "            <td><div align = left>def function():</div> <br>\n",
    "                <div align = left>global x, y; x = 'new'</div>\n",
    "        <tr>\n",
    "            <td><div align = left>nonlocal</div>\n",
    "            <td><div align = left>Namespaces (3.X) </div>\n",
    "            <td><div align = left>def outer():</div> <br>\n",
    "                <div align = left>x = 'old'</div> <br>\n",
    "                <div align = left>def function():</div> <br>\n",
    "                <div align = left>nonlocal x; x = 'new'</div>\n",
    "       <tr>\n",
    "            <td><div align = left>import </div>\n",
    "            <td><div align = left>Module access </div>\n",
    "            <td><div align = left>import sys</div>\n",
    "       <tr>\n",
    "            <td><div align = left>from </div>\n",
    "            <td><div align = left>Attribute access </div>\n",
    "            <td><div align = left>from sys import stdin</div>\n",
    "       <tr>\n",
    "            <td><div align = left>class </div>\n",
    "            <td><div align = left>Building objects </div>\n",
    "            <td><div align = left>class Subclass(Superclass):</div><br>\n",
    "                <div align = left>staticData = []</div> <br>\n",
    "                <div align = left>def method(self): pass</div>\n",
    "       <tr>\n",
    "            <td><div align = left>try/except/ finally </div>\n",
    "            <td><div align = left>Catching exceptions </div>\n",
    "            <td><div align = left>try:</div> <br>\n",
    "                <div align = left>action()</div> <br>\n",
    "                <div align = left>except:</div> <br>\n",
    "                <div align = left>print('action error')</div>\n",
    "       <tr>\n",
    "            <td><div align = left>raise </div>\n",
    "            <td><div align = left>Triggering exceptions </div>\n",
    "            <td><div align = left>raise EndSearch(location)</div>\n",
    "       <tr>\n",
    "            <td><div align = left>assert </div>\n",
    "            <td><div align = left>Debugging checks </div>\n",
    "            <td><div align = left>assert X > Y, 'X too small'</div>\n",
    "            <tr>\n",
    "            <td><div align = left>with/as </div>\n",
    "            <td><div align = left>Context managers (3.X, 2.6+) </div>\n",
    "            <td><div align = left>with open('data') as myfile:</div> <br>\n",
    "                <div align = left>process(myfile)</div>\n",
    "       <tr>\n",
    "            <td><div align = left>del </div>\n",
    "            <td><div align = left>Deleting references </div>\n",
    "            <td><div align = left>del data[k]</div><br>\n",
    "                <div align = left>del data[i:j]</div> <br>\n",
    "                <div align = left>del obj.attr</div> <br>\n",
    "                <div align = left>del variable</div>\n",
    "\n",
    "       \n",
    "</table>"
   ]
  },
  {
   "cell_type": "code",
   "execution_count": null,
   "metadata": {},
   "outputs": [],
   "source": []
  },
  {
   "cell_type": "code",
   "execution_count": null,
   "metadata": {},
   "outputs": [],
   "source": []
  }
 ],
 "metadata": {
  "kernelspec": {
   "display_name": "Python 3",
   "language": "python",
   "name": "python3"
  },
  "language_info": {
   "codemirror_mode": {
    "name": "ipython",
    "version": 3
   },
   "file_extension": ".py",
   "mimetype": "text/x-python",
   "name": "python",
   "nbconvert_exporter": "python",
   "pygments_lexer": "ipython3",
   "version": "3.8.7"
  }
 },
 "nbformat": 4,
 "nbformat_minor": 4
}
